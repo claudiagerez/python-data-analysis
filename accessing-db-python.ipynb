{
 "cells": [
  {
   "cell_type": "markdown",
   "metadata": {},
   "source": [
    "# Accessing Databases with Python"
   ]
  },
  {
   "cell_type": "markdown",
   "metadata": {},
   "source": [
    "### Writing code using BD-API"
   ]
  },
  {
   "cell_type": "markdown",
   "metadata": {},
   "source": [
    "from platform import python_version\n",
    "print(python_version())\n",
    "\n",
    "from dbm import connect\n",
    "\n",
    "#Create connection object\n",
    "connection = connect('databasename', 'username', 'pswd')\n",
    "\n",
    "#Create a cursor object\n",
    "cursor = connection.cursor()\n",
    "\n",
    "#Run queries\n",
    "cursor.execute('SELECT * FROM table LIMIT 10;')\n",
    "results = cursor.fetchall()\n",
    "\n",
    "#Free resources\n",
    "cursor.close()\n",
    "connection.close()"
   ]
  },
  {
   "cell_type": "code",
   "execution_count": null,
   "metadata": {},
   "outputs": [],
   "source": []
  }
 ],
 "metadata": {
  "kernelspec": {
   "display_name": "Python 3",
   "language": "python",
   "name": "python3"
  },
  "language_info": {
   "codemirror_mode": {
    "name": "ipython",
    "version": 3
   },
   "file_extension": ".py",
   "mimetype": "text/x-python",
   "name": "python",
   "nbconvert_exporter": "python",
   "pygments_lexer": "ipython3",
   "version": "3.7.6"
  }
 },
 "nbformat": 4,
 "nbformat_minor": 4
}
